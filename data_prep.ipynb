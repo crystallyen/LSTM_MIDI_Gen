{
 "cells": [
  {
   "cell_type": "code",
   "execution_count": 1,
   "metadata": {},
   "outputs": [],
   "source": [
    "import pretty_midi\n",
    "\n",
    "from tqdm.auto import tqdm\n",
    "\n",
    "from pathlib import Path\n",
    "\n",
    "import torch\n",
    "\n",
    "max_files = 1000"
   ]
  },
  {
   "cell_type": "code",
   "execution_count": 2,
   "metadata": {},
   "outputs": [],
   "source": [
    "min_pitch = 21\n",
    "max_pitch = 108\n",
    "n_pitches = max_pitch - min_pitch + 1\n",
    "sequence_length = 128"
   ]
  },
  {
   "cell_type": "code",
   "execution_count": 3,
   "metadata": {},
   "outputs": [],
   "source": [
    "midi_files = list(Path(r\"C:\\Users\\aniru\\Desktop\\projects\\AI Music Generator\\maestro-v3.0.0\").rglob(\"*.midi\"))"
   ]
  },
  {
   "cell_type": "code",
   "execution_count": 4,
   "metadata": {},
   "outputs": [],
   "source": [
    "def create_roll(midi_file):\n",
    "  ex = pretty_midi.PrettyMIDI(str(midi_file))\n",
    "  instrument = ex.instruments[0]\n",
    "  instrument.notes.sort(key = lambda note:note.start)\n",
    "  roll = torch.zeros((len(instrument.notes), 4), dtype=torch.float32)\n",
    "  prev_start_time = 0\n",
    "  idx = 0\n",
    "  for note in instrument.notes:\n",
    "    # pitch: int32, velocity: int32, duration: float32, step: float32\n",
    "    roll[idx][0] = note.pitch - min_pitch\n",
    "    roll[idx][1] = note.velocity\n",
    "    roll[idx][2] = note.end - note.start\n",
    "    roll[idx][3] = note.start - prev_start_time\n",
    "    prev_start_time = note.start\n",
    "    idx += 1\n",
    "\n",
    "  return roll"
   ]
  },
  {
   "cell_type": "code",
   "execution_count": 5,
   "metadata": {},
   "outputs": [],
   "source": [
    "def create_sequence(roll, sequence_length):\n",
    "  sequences = torch.zeros((len(roll) - sequence_length - 1, sequence_length, 4), dtype=torch.float32)\n",
    "  targets = torch.zeros((len(roll) - sequence_length - 1, 4), dtype=torch.float32)\n",
    "  \n",
    "  for i in range(0, len(roll) - sequence_length - 1):\n",
    "    sequences[i] = roll[i:i + sequence_length]\n",
    "    targets[i] = roll[i + sequence_length]\n",
    "\n",
    "  return sequences, targets"
   ]
  },
  {
   "cell_type": "code",
   "execution_count": 6,
   "metadata": {},
   "outputs": [
    {
     "data": {
      "application/vnd.jupyter.widget-view+json": {
       "model_id": "fb15829710884830829f6604a9925d44",
       "version_major": 2,
       "version_minor": 0
      },
      "text/plain": [
       "  0%|          | 0/1000 [00:00<?, ?it/s]"
      ]
     },
     "metadata": {},
     "output_type": "display_data"
    }
   ],
   "source": [
    "sequences = []\n",
    "targets = []\n",
    "\n",
    "count = 0\n",
    "bar = tqdm(total=max_files)\n",
    "for midi_file in midi_files:\n",
    "  if (count == max_files):\n",
    "    break\n",
    "  count += 1\n",
    "  roll = create_roll(midi_file)\n",
    "  file_sequences, file_targets = create_sequence(roll, sequence_length)\n",
    "  sequences.append(file_sequences)\n",
    "  targets.append(file_targets)\n",
    "  bar.update(1)\n",
    "bar.close()"
   ]
  },
  {
   "cell_type": "code",
   "execution_count": 7,
   "metadata": {},
   "outputs": [],
   "source": [
    "sequences_tensor = torch.cat(sequences, dim=0)\n",
    "targets_tensor = torch.cat(targets, dim=0)\n",
    "\n",
    "torch.save({\"sequences\": sequences_tensor, \"targets\": targets_tensor}, f\"dataset/maestro-{max_files}.pth\")"
   ]
  },
  {
   "cell_type": "code",
   "execution_count": 8,
   "metadata": {},
   "outputs": [
    {
     "name": "stdout",
     "output_type": "stream",
     "text": [
      "torch.Size([5195653, 128, 4])\n"
     ]
    }
   ],
   "source": [
    "print(sequences_tensor.shape)"
   ]
  }
 ],
 "metadata": {
  "kernelspec": {
   "display_name": "pytorch-env",
   "language": "python",
   "name": "python3"
  },
  "language_info": {
   "codemirror_mode": {
    "name": "ipython",
    "version": 3
   },
   "file_extension": ".py",
   "mimetype": "text/x-python",
   "name": "python",
   "nbconvert_exporter": "python",
   "pygments_lexer": "ipython3",
   "version": "3.12.8"
  }
 },
 "nbformat": 4,
 "nbformat_minor": 2
}
