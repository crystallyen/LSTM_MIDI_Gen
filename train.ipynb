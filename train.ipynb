{
 "cells": [
  {
   "cell_type": "code",
   "execution_count": 8,
   "metadata": {},
   "outputs": [],
   "source": [
    "import torch\n",
    "import torch.nn as nn\n",
    "from torch.utils.data import Dataset, DataLoader, TensorDataset\n",
    "from model import MusicGen\n",
    "\n",
    "from tqdm.auto import tqdm"
   ]
  },
  {
   "cell_type": "code",
   "execution_count": 9,
   "metadata": {},
   "outputs": [],
   "source": [
    "min_pitch = 21\n",
    "max_pitch = 108\n",
    "n_pitches = max_pitch - min_pitch + 1\n",
    "sequence_length = 128\n",
    "n_velocities = 128\n",
    "device = torch.device(\"cuda\" if torch.cuda.is_available() else \"cpu\")"
   ]
  },
  {
   "cell_type": "code",
   "execution_count": 10,
   "metadata": {},
   "outputs": [],
   "source": [
    "loaded_data = torch.load('dataset/maestro-100.pth', weights_only=True)\n",
    "dataset = TensorDataset(loaded_data[\"sequences\"], loaded_data[\"targets\"])\n",
    "dataloader = DataLoader(dataset, batch_size=64, shuffle=True)"
   ]
  },
  {
   "cell_type": "code",
   "execution_count": 11,
   "metadata": {},
   "outputs": [],
   "source": [
    "def custom_loss_fn(out, target):\n",
    "    pitch_pred, velocity_pred, duration_pred, step_pred = torch.split(out, [n_pitches, n_velocities, 1, 1], dim=-1)\n",
    "\n",
    "    # pitch_pred : (batch_size, n_pitch) float32\n",
    "    pitch_loss = nn.CrossEntropyLoss()(pitch_pred, target[:, 0].to(torch.int64))\n",
    "    # velocity_pred : (batch_size, n_velocity) float32\n",
    "    velocity_loss = nn.CrossEntropyLoss()(velocity_pred, target[:, 1].to(torch.int64))\n",
    "    # duration_pred : (batch_size, 1)\n",
    "    duration_loss = nn.MSELoss()(duration_pred, target[:, 2].unsqueeze(1))\n",
    "    # step_pred : (batch_size, 1)\n",
    "    step_loss = nn.MSELoss()(step_pred, target[:, 3].unsqueeze(1))\n",
    "\n",
    "    total_loss = pitch_loss + velocity_loss + step_loss + duration_loss\n",
    "    return total_loss"
   ]
  },
  {
   "cell_type": "code",
   "execution_count": 14,
   "metadata": {},
   "outputs": [
    {
     "data": {
      "application/vnd.jupyter.widget-view+json": {
       "model_id": "5929aa2e38cb4f5fa60d95c39df14a37",
       "version_major": 2,
       "version_minor": 0
      },
      "text/plain": [
       "0it [00:00, ?it/s]"
      ]
     },
     "metadata": {},
     "output_type": "display_data"
    },
    {
     "name": "stdout",
     "output_type": "stream",
     "text": [
      "Epoch 1/3, Loss: 7.8762\n"
     ]
    },
    {
     "data": {
      "application/vnd.jupyter.widget-view+json": {
       "model_id": "a705fdb892e14164b0448f797a7fb728",
       "version_major": 2,
       "version_minor": 0
      },
      "text/plain": [
       "0it [00:00, ?it/s]"
      ]
     },
     "metadata": {},
     "output_type": "display_data"
    },
    {
     "name": "stdout",
     "output_type": "stream",
     "text": [
      "Epoch 2/3, Loss: 7.7062\n"
     ]
    },
    {
     "data": {
      "application/vnd.jupyter.widget-view+json": {
       "model_id": "2c4b36dd16ba42a6b9e6523b078d0127",
       "version_major": 2,
       "version_minor": 0
      },
      "text/plain": [
       "0it [00:00, ?it/s]"
      ]
     },
     "metadata": {},
     "output_type": "display_data"
    },
    {
     "name": "stdout",
     "output_type": "stream",
     "text": [
      "Epoch 3/3, Loss: 7.6397\n"
     ]
    }
   ],
   "source": [
    "model = MusicGen()\n",
    "optimizer = torch.optim.Adam(model.parameters(), lr=0.001)\n",
    "model.to(device)\n",
    "\n",
    "num_epochs = 3\n",
    "for epoch in range(num_epochs):\n",
    "    model.train()\n",
    "    total_loss = 0\n",
    "    for batch_idx, (sequences, targets) in tqdm(enumerate(dataloader)):\n",
    "        # batch size, 128, 4\n",
    "        sequences = sequences.to(device)\n",
    "        # batch size, 4\n",
    "        targets = targets.to(device)\n",
    "        \n",
    "        optimizer.zero_grad()\n",
    "\n",
    "        # Predicting without hidden for default hidden = None\n",
    "        out, hidden = model(sequences)\n",
    "        loss = custom_loss_fn(out, targets)\n",
    "        loss.backward()\n",
    "        optimizer.step()\n",
    "        total_loss += loss.item()\n",
    "        \n",
    "    avg_loss = total_loss / len(dataloader)\n",
    "    print(f\"Epoch {epoch+1}/{num_epochs}, Loss: {avg_loss:.4f}\")"
   ]
  },
  {
   "cell_type": "code",
   "execution_count": 15,
   "metadata": {},
   "outputs": [],
   "source": [
    "torch.save(model.state_dict(), f\"models/model2-e{num_epochs}.pth\")"
   ]
  }
 ],
 "metadata": {
  "kernelspec": {
   "display_name": "pytorch-env",
   "language": "python",
   "name": "python3"
  },
  "language_info": {
   "codemirror_mode": {
    "name": "ipython",
    "version": 3
   },
   "file_extension": ".py",
   "mimetype": "text/x-python",
   "name": "python",
   "nbconvert_exporter": "python",
   "pygments_lexer": "ipython3",
   "version": "3.12.8"
  }
 },
 "nbformat": 4,
 "nbformat_minor": 2
}
