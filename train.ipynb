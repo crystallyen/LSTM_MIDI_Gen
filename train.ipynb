{
 "cells": [
  {
   "cell_type": "code",
   "execution_count": 1,
   "metadata": {},
   "outputs": [],
   "source": [
    "import torch\n",
    "import torch.nn as nn\n",
    "from torch.utils.data import Dataset, DataLoader, TensorDataset\n",
    "import torch.nn.functional as F\n",
    "from model import MusicGen\n",
    "\n",
    "from tqdm.auto import tqdm"
   ]
  },
  {
   "cell_type": "code",
   "execution_count": 2,
   "metadata": {},
   "outputs": [],
   "source": [
    "min_drum_pitch = 35\n",
    "max_drum_pitch = 81\n",
    "n_drum_pitches = max_drum_pitch - min_drum_pitch + 1\n",
    "\n",
    "min_pitch = 0\n",
    "max_pitch = 127\n",
    "n_pitches = max_pitch - min_pitch + 1\n",
    "\n",
    "sequence_length = 128\n",
    "n_velocities = 128\n",
    "n_instruments = 4\n",
    "\n",
    "device = torch.device(\"cuda\" if torch.cuda.is_available() else \"cpu\")"
   ]
  },
  {
   "cell_type": "code",
   "execution_count": 3,
   "metadata": {},
   "outputs": [],
   "source": [
    "loaded_data = torch.load('data/lmd-10.pth', weights_only=True)\n",
    "denorm = torch.load('data/lmd-10-denorm.pth', weights_only=True)\n",
    "dataset = TensorDataset(loaded_data[\"sequences\"], loaded_data[\"targets\"])\n",
    "dataloader = DataLoader(dataset, batch_size=64, shuffle=True)"
   ]
  },
  {
   "cell_type": "code",
   "execution_count": 4,
   "metadata": {},
   "outputs": [],
   "source": [
    "def custom_loss_fn(out, target):\n",
    "    instrument_logits = out[\"instrument\"]\n",
    "    drum_pitch_logits = out[\"drum_pitch\"]\n",
    "    regular_pitch_logits = out[\"regular_pitch\"]\n",
    "    velocity_logits = out[\"velocity\"]\n",
    "    step = out[\"step\"]\n",
    "    duration = out[\"duration\"]\n",
    "\n",
    "    pitch_target = target[:, 0].long()\n",
    "    velocity_target = target[:, 1].long()\n",
    "    duration_target = target[:, 2].unsqueeze(1)\n",
    "    step_target = target[:, 3].unsqueeze(1)\n",
    "    instrument_target = target[:, 4].long()\n",
    "\n",
    "    instrument_loss = F.cross_entropy(instrument_logits, instrument_target)\n",
    "    is_drum = (instrument_target == 0)\n",
    "\n",
    "    drum_pitch_loss = F.cross_entropy(drum_pitch_logits[is_drum], pitch_target[is_drum] - min_drum_pitch) if is_drum.any() else 0\n",
    "    regular_pitch_loss = F.cross_entropy(regular_pitch_logits[~is_drum], pitch_target[~is_drum]) if (~is_drum).any() else 0\n",
    "    pitch_loss = drum_pitch_loss + regular_pitch_loss\n",
    "\n",
    "    # Velocity loss\n",
    "    velocity_loss = F.cross_entropy(velocity_logits, velocity_target)\n",
    "\n",
    "    # Step and duration loss (MSE)\n",
    "    step_loss = F.mse_loss(step, step_target)\n",
    "    duration_loss = F.mse_loss(duration, duration_target)\n",
    "\n",
    "    # Total loss\n",
    "    total_loss = instrument_loss + pitch_loss + velocity_loss + step_loss + duration_loss\n",
    "    return total_loss"
   ]
  },
  {
   "cell_type": "code",
   "execution_count": null,
   "metadata": {},
   "outputs": [],
   "source": [
    "model = MusicGen()\n",
    "optimizer = torch.optim.Adam(model.parameters(), lr=0.001)\n",
    "model.to(device)\n",
    "\n",
    "num_epochs = 10\n",
    "for epoch in range(num_epochs):\n",
    "    model.train()\n",
    "    total_loss = 0\n",
    "    for batch_idx, (sequences, targets) in tqdm(enumerate(dataloader)):\n",
    "        # batch size, 128, 5\n",
    "        sequences = sequences.to(device)\n",
    "        # batch size, 5\n",
    "        targets = targets.to(device)\n",
    "        \n",
    "        optimizer.zero_grad()\n",
    "\n",
    "        # Predicting without hidden for default hidden = None\n",
    "        out, hidden = model(sequences)\n",
    "        loss = custom_loss_fn(out, targets)\n",
    "        loss.backward()\n",
    "        optimizer.step()\n",
    "        #print(loss.item())\n",
    "        total_loss += loss.item()\n",
    "        \n",
    "    avg_loss = total_loss / len(dataloader)\n",
    "    print(f\"Epoch {epoch+1}/{num_epochs}, Loss: {avg_loss:.4f}\")"
   ]
  },
  {
   "cell_type": "code",
   "execution_count": 8,
   "metadata": {},
   "outputs": [],
   "source": [
    "torch.save(model.state_dict(), f\"models/model3-e{num_epochs}.pth\")"
   ]
  }
 ],
 "metadata": {
  "kernelspec": {
   "display_name": "pytorch-env",
   "language": "python",
   "name": "python3"
  },
  "language_info": {
   "codemirror_mode": {
    "name": "ipython",
    "version": 3
   },
   "file_extension": ".py",
   "mimetype": "text/x-python",
   "name": "python",
   "nbconvert_exporter": "python",
   "pygments_lexer": "ipython3",
   "version": "3.12.8"
  }
 },
 "nbformat": 4,
 "nbformat_minor": 2
}
